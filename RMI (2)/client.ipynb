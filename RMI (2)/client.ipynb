{
 "cells": [
  {
   "cell_type": "code",
   "execution_count": 1,
   "id": "9a629e12",
   "metadata": {},
   "outputs": [
    {
     "name": "stdout",
     "output_type": "stream",
     "text": [
      "Enter the URI of the server object: PYRO:obj_f1d53bb5bc4f4f10ba66c4d9961b2861@localhost:53758\n",
      "Enter the first string: hel\n",
      "Enter the second string: lo\n",
      "Concatenated string: hello\n"
     ]
    }
   ],
   "source": [
    "import Pyro4\n",
    "\n",
    "def main():\n",
    "    # Get the URI of the server object\n",
    "    uri = input(\"Enter the URI of the server object: \").strip()\n",
    "    \n",
    "    # Connect to the server\n",
    "    server = Pyro4.Proxy(uri)\n",
    "    \n",
    "    # Get user input\n",
    "    str1 = input(\"Enter the first string: \")\n",
    "    str2 = input(\"Enter the second string: \")\n",
    "    \n",
    "    # Call the remote method on the server\n",
    "    concatenated_string = server.concatenate(str1, str2)\n",
    "    \n",
    "    print(\"Concatenated string:\", concatenated_string)\n",
    "\n",
    "if __name__ == \"__main__\":\n",
    "    main()\n"
   ]
  },
  {
   "cell_type": "code",
   "execution_count": null,
   "id": "932998de",
   "metadata": {},
   "outputs": [],
   "source": []
  }
 ],
 "metadata": {
  "kernelspec": {
   "display_name": "Python 3 (ipykernel)",
   "language": "python",
   "name": "python3"
  },
  "language_info": {
   "codemirror_mode": {
    "name": "ipython",
    "version": 3
   },
   "file_extension": ".py",
   "mimetype": "text/x-python",
   "name": "python",
   "nbconvert_exporter": "python",
   "pygments_lexer": "ipython3",
   "version": "3.9.19"
  }
 },
 "nbformat": 4,
 "nbformat_minor": 5
}
