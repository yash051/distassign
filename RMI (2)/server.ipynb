{
 "cells": [
  {
   "cell_type": "code",
   "execution_count": 1,
   "id": "e6c791a4",
   "metadata": {},
   "outputs": [
    {
     "name": "stdout",
     "output_type": "stream",
     "text": [
      "Requirement already satisfied: Pyro4 in d:\\ananconda\\envs\\myenv\\lib\\site-packages (4.82)\n",
      "Requirement already satisfied: serpent>=1.27 in d:\\ananconda\\envs\\myenv\\lib\\site-packages (from Pyro4) (1.41)\n"
     ]
    }
   ],
   "source": [
    "!pip install Pyro4"
   ]
  },
  {
   "cell_type": "markdown",
   "id": "c4abcb2d",
   "metadata": {},
   "source": [
    "SERVER"
   ]
  },
  {
   "cell_type": "code",
   "execution_count": null,
   "id": "bc5a4e29",
   "metadata": {},
   "outputs": [
    {
     "name": "stdout",
     "output_type": "stream",
     "text": [
      "Server URI: PYRO:obj_f1d53bb5bc4f4f10ba66c4d9961b2861@localhost:53758\n"
     ]
    }
   ],
   "source": [
    "import Pyro4\n",
    "\n",
    "@Pyro4.expose\n",
    "class StringConcatenator(object):\n",
    "    \n",
    "    def concatenate(self, str1, str2):\n",
    "        return str1 + str2\n",
    "\n",
    "def main():\n",
    "    daemon = Pyro4.Daemon()  # Create a Pyro daemon\n",
    "    uri = daemon.register(StringConcatenator)  # Register our class with the daemon\n",
    "    \n",
    "    print(\"Server URI:\", uri)\n",
    "    daemon.requestLoop()  # Start the event loop\n",
    "\n",
    "if __name__ == \"__main__\":\n",
    "    main()\n"
   ]
  },
  {
   "cell_type": "code",
   "execution_count": null,
   "id": "24a807ad",
   "metadata": {},
   "outputs": [],
   "source": []
  }
 ],
 "metadata": {
  "kernelspec": {
   "display_name": "Python 3 (ipykernel)",
   "language": "python",
   "name": "python3"
  },
  "language_info": {
   "codemirror_mode": {
    "name": "ipython",
    "version": 3
   },
   "file_extension": ".py",
   "mimetype": "text/x-python",
   "name": "python",
   "nbconvert_exporter": "python",
   "pygments_lexer": "ipython3",
   "version": "3.9.19"
  }
 },
 "nbformat": 4,
 "nbformat_minor": 5
}
