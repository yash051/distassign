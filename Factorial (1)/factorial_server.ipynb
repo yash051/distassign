{
 "cells": [
  {
   "cell_type": "code",
   "execution_count": null,
   "id": "a84ff0e8",
   "metadata": {},
   "outputs": [
    {
     "name": "stdout",
     "output_type": "stream",
     "text": [
      "Factorial server is running on localhost:8000\n"
     ]
    },
    {
     "name": "stderr",
     "output_type": "stream",
     "text": [
      "127.0.0.1 - - [04/Jan/2024 20:06:19] \"POST /RPC2 HTTP/1.1\" 200 -\n",
      "127.0.0.1 - - [04/Jan/2024 20:06:35] \"POST /RPC2 HTTP/1.1\" 200 -\n",
      "127.0.0.1 - - [04/Jan/2024 20:06:56] \"POST /RPC2 HTTP/1.1\" 200 -\n"
     ]
    }
   ],
   "source": [
    "import xmlrpc.server\n",
    "\n",
    "def factorial(n):\n",
    "    \"\"\"Compute factorial of n.\"\"\"\n",
    "    if n == 0:\n",
    "        return 1\n",
    "    else:\n",
    "        return n * factorial(n - 1)\n",
    "\n",
    "class FactorialServer(xmlrpc.server.SimpleXMLRPCServer):\n",
    "    def __init__(self, address):\n",
    "        super().__init__(address)\n",
    "        self.register_function(factorial, 'factorial')\n",
    "\n",
    "if __name__ == '__main__':\n",
    "    server_address = ('localhost', 8000)\n",
    "    server = FactorialServer(server_address)\n",
    "    print(f\"Factorial server is running on {server_address[0]}:{server_address[1]}\")\n",
    "    server.serve_forever()\n"
   ]
  },
  {
   "cell_type": "code",
   "execution_count": null,
   "id": "4a03ed0b",
   "metadata": {},
   "outputs": [],
   "source": []
  }
 ],
 "metadata": {
  "kernelspec": {
   "display_name": "Python 3 (ipykernel)",
   "language": "python",
   "name": "python3"
  },
  "language_info": {
   "codemirror_mode": {
    "name": "ipython",
    "version": 3
   },
   "file_extension": ".py",
   "mimetype": "text/x-python",
   "name": "python",
   "nbconvert_exporter": "python",
   "pygments_lexer": "ipython3",
   "version": "3.9.19"
  }
 },
 "nbformat": 4,
 "nbformat_minor": 5
}
