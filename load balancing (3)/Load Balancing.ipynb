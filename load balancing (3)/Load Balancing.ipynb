{
 "cells": [
  {
   "cell_type": "markdown",
   "id": "b40c9351",
   "metadata": {},
   "source": [
    "# Round Robin"
   ]
  },
  {
   "cell_type": "code",
   "execution_count": 9,
   "id": "e7929459",
   "metadata": {},
   "outputs": [
    {
     "name": "stdout",
     "output_type": "stream",
     "text": [
      "Using Round Robin:\n",
      "Request handled by Server1\n",
      "Request handled by Server2\n",
      "Request handled by Server3\n",
      "Request handled by Server1\n",
      "Request handled by Server2\n",
      "Request handled by Server3\n",
      "Request handled by Server1\n",
      "Request handled by Server2\n",
      "Request handled by Server3\n",
      "Request handled by Server1\n"
     ]
    }
   ],
   "source": [
    "import random\n",
    "\n",
    "class LoadBalancer:\n",
    "    def __init__(self, servers):\n",
    "        self.servers = servers\n",
    "        self.round_robin_index = 0\n",
    "        self.weights = {server: 1 for server in servers}\n",
    "        self.connections_count = {server: 0 for server in servers}  # Initialize connections_count\n",
    "\n",
    "    def round_robin(self):\n",
    "        server = self.servers[self.round_robin_index]\n",
    "        self.round_robin_index = (self.round_robin_index + 1) % len(self.servers)\n",
    "        return server\n",
    "\n",
    " \n",
    "\n",
    "    def handle_request(self, algorithm):\n",
    "        if algorithm == 'round_robin':\n",
    "            server = self.round_robin()\n",
    "        \n",
    "        else:\n",
    "            raise ValueError(\"Invalid algorithm!\")\n",
    "\n",
    "        self.connections_count[server] += 1  # Increment connection count for the selected server\n",
    "        return f\"Request handled by {server}\"\n",
    "\n",
    "if __name__ == \"__main__\":\n",
    "    servers = ['Server1', 'Server2', 'Server3']\n",
    "    lb = LoadBalancer(servers)\n",
    "\n",
    "    print(\"Using Round Robin:\")\n",
    "    for _ in range(10):\n",
    "        print(lb.handle_request('round_robin'))\n",
    "\n",
    "    "
   ]
  },
  {
   "cell_type": "markdown",
   "id": "9cbe960b",
   "metadata": {},
   "source": [
    "# Dynamic weighted robin"
   ]
  },
  {
   "cell_type": "code",
   "execution_count": 6,
   "id": "4fcbc63b",
   "metadata": {},
   "outputs": [
    {
     "name": "stdout",
     "output_type": "stream",
     "text": [
      "Request 1 sent to Server Server B\n",
      "Request 2 sent to Server Server A\n",
      "Request 3 sent to Server Server C\n",
      "Request 4 sent to Server Server B\n",
      "Request 5 sent to Server Server A\n",
      "Current server loads:\n",
      "Server Server B: 2\n",
      "Server Server A: 2\n",
      "Server Server C: 1\n",
      "Request 6 sent to Server Server C\n",
      "Request 7 sent to Server Server B\n",
      "Request 8 sent to Server Server A\n",
      "Request 9 sent to Server Server C\n",
      "Request 10 sent to Server Server B\n",
      "Current server loads:\n",
      "Server Server B: 4\n",
      "Server Server A: 3\n",
      "Server Server C: 3\n",
      "Request 11 sent to Server Server A\n",
      "Request 12 sent to Server Server C\n",
      "Request 13 sent to Server Server B\n",
      "Request 14 sent to Server Server A\n",
      "Request 15 sent to Server Server C\n",
      "Current server loads:\n",
      "Server Server B: 5\n",
      "Server Server A: 5\n",
      "Server Server C: 5\n",
      "Request 16 sent to Server Server B\n",
      "Request 17 sent to Server Server A\n",
      "Request 18 sent to Server Server C\n",
      "Request 19 sent to Server Server B\n",
      "Request 20 sent to Server Server A\n",
      "Current server loads:\n",
      "Server Server B: 7\n",
      "Server Server A: 7\n",
      "Server Server C: 6\n"
     ]
    }
   ],
   "source": [
    "import time\n",
    "import random\n",
    "\n",
    "\n",
    "class DynamicLoadBalancer:\n",
    "    def __init__(self, servers):\n",
    "        self.servers = {server: 0 for server in servers}\n",
    "\n",
    "    def distribute_request(self, request):\n",
    "        min_load_server = min(self.servers, key=self.servers.get)\n",
    "        print(f\"Request {request} sent to Server {min_load_server}\")\n",
    "        time.sleep(0.5)\n",
    "        self.servers[min_load_server] += 1\n",
    "\n",
    "    def display_server_loads(self):\n",
    "        print(\"Current server loads:\")\n",
    "        for server, load in self.servers.items():\n",
    "            print(f\"Server {server}: {load}\")\n",
    "\n",
    "\n",
    "def simulate_dynamic_load_balancing(load_balancer, num_requests):\n",
    "    for i in range(1, num_requests + 1):\n",
    "        load_balancer.distribute_request(i)\n",
    "        if i % 5 == 0:\n",
    "            load_balancer.display_server_loads()\n",
    "\n",
    "\n",
    "if __name__ == \"__main__\":\n",
    "    server_addresses = ['Server B', 'Server A', 'Server C']\n",
    "    dynamic_load_balancer = DynamicLoadBalancer(server_addresses)\n",
    "\n",
    "    simulate_dynamic_load_balancing(dynamic_load_balancer, 20)"
   ]
  },
  {
   "cell_type": "code",
   "execution_count": null,
   "id": "1266290b",
   "metadata": {},
   "outputs": [],
   "source": []
  }
 ],
 "metadata": {
  "kernelspec": {
   "display_name": "Python 3 (ipykernel)",
   "language": "python",
   "name": "python3"
  },
  "language_info": {
   "codemirror_mode": {
    "name": "ipython",
    "version": 3
   },
   "file_extension": ".py",
   "mimetype": "text/x-python",
   "name": "python",
   "nbconvert_exporter": "python",
   "pygments_lexer": "ipython3",
   "version": "3.9.19"
  }
 },
 "nbformat": 4,
 "nbformat_minor": 5
}
