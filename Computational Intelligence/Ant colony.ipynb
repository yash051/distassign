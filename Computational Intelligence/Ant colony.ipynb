{
 "cells": [
  {
   "cell_type": "code",
   "execution_count": 8,
   "id": "f3c3ab8f",
   "metadata": {},
   "outputs": [
    {
     "name": "stdout",
     "output_type": "stream",
     "text": [
      "Minimum Cost: 80\n",
      "Minimum Path: [0, 2, 3, 1]\n"
     ]
    }
   ],
   "source": [
    "from sys import maxsize\n",
    "v = 4\n",
    "\n",
    "def travelling_salesman_function(graph, s):\n",
    "    vertex = []\n",
    "    for i in range(v):\n",
    "        if i != s:\n",
    "            vertex.append(i)\n",
    "\n",
    "    min_path = maxsize\n",
    "    min_path_sequence = []\n",
    "    while True:\n",
    "        current_cost = 0\n",
    "        path_sequence = [s]\n",
    "        k = s\n",
    "        for i in range(len(vertex)):\n",
    "            current_cost += graph[k][vertex[i]]\n",
    "            k = vertex[i]\n",
    "            path_sequence.append(k)\n",
    "        current_cost += graph[k][s]\n",
    "        min_path = min(min_path, current_cost)\n",
    "        min_path_sequence = path_sequence[:] if min_path == current_cost else min_path_sequence\n",
    "\n",
    "        if not next_perm(vertex):\n",
    "            break\n",
    "\n",
    "    return min_path, min_path_sequence\n",
    "\n",
    "def next_perm(l):\n",
    "    n = len(l)\n",
    "    i = n-2\n",
    "\n",
    "    while i >= 0 and l[i] > l[i+1]:\n",
    "        i -= 1\n",
    "    \n",
    "    if i == -1:\n",
    "        return False\n",
    "\n",
    "    j = i+1\n",
    "    while j < n and l[j] > l[i]:\n",
    "        j += 1\n",
    "\n",
    "    j -= 1\n",
    "\n",
    "    l[i], l[j] = l[j], l[i]\n",
    "    left = i+1\n",
    "    right = n-1\n",
    "\n",
    "    while left < right:\n",
    "        l[left], l[right] = l[right], l[left]\n",
    "        left += 1\n",
    "        right -= 1\n",
    "    return True\n",
    "\n",
    "graph = [[0,10,15,20], [10,0,35,25], [15,35,0,30], [20,25,30,0]]\n",
    "s = 0\n",
    "min_cost, min_path = travelling_salesman_function(graph,s)\n",
    "print(\"Minimum Cost:\", min_cost)\n",
    "print(\"Minimum Path:\", min_path)\n"
   ]
  },
  {
   "cell_type": "code",
   "execution_count": null,
   "id": "510db3c7",
   "metadata": {},
   "outputs": [],
   "source": []
  }
 ],
 "metadata": {
  "kernelspec": {
   "display_name": "Python 3 (ipykernel)",
   "language": "python",
   "name": "python3"
  },
  "language_info": {
   "codemirror_mode": {
    "name": "ipython",
    "version": 3
   },
   "file_extension": ".py",
   "mimetype": "text/x-python",
   "name": "python",
   "nbconvert_exporter": "python",
   "pygments_lexer": "ipython3",
   "version": "3.9.19"
  }
 },
 "nbformat": 4,
 "nbformat_minor": 5
}
