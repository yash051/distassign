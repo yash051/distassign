{
 "cells": [
  {
   "cell_type": "code",
   "execution_count": 1,
   "id": "27a046d5",
   "metadata": {},
   "outputs": [
    {
     "name": "stdout",
     "output_type": "stream",
     "text": [
      "gen\tnevals\tavg    \tstd    \tmin\tmax\n",
      "0  \t300   \t50.1833\t5.05137\t34 \t63 \n",
      "1  \t181   \t54.12  \t4.18556\t43 \t67 \n",
      "2  \t183   \t57.5533\t3.74795\t49 \t67 \n",
      "3  \t178   \t60.47  \t2.97026\t48 \t67 \n",
      "4  \t175   \t62.4167\t2.98603\t50 \t70 \n",
      "5  \t184   \t64.4833\t2.78742\t55 \t72 \n",
      "6  \t200   \t66.4533\t2.80021\t57 \t76 \n",
      "7  \t178   \t68.6133\t2.64395\t60 \t77 \n",
      "8  \t176   \t70.2567\t2.72472\t60 \t78 \n",
      "9  \t174   \t71.9467\t2.67653\t63 \t81 \n",
      "10 \t202   \t73.5733\t2.95149\t62 \t81 \n",
      "11 \t190   \t75.3267\t2.67207\t65 \t83 \n",
      "12 \t173   \t76.9067\t2.51488\t71 \t83 \n",
      "13 \t182   \t78.58  \t2.42424\t70 \t84 \n",
      "14 \t189   \t79.7867\t2.43334\t71 \t85 \n",
      "15 \t172   \t80.88  \t2.29904\t72 \t85 \n",
      "16 \t183   \t82.0167\t2.19918\t75 \t87 \n",
      "17 \t194   \t83.1167\t2.1189 \t76 \t89 \n",
      "18 \t189   \t84.21  \t2.17238\t78 \t89 \n",
      "19 \t194   \t85.18  \t2.55361\t77 \t91 \n",
      "20 \t178   \t86.5667\t2.34639\t76 \t92 \n",
      "21 \t189   \t87.55  \t2.62694\t77 \t92 \n",
      "22 \t188   \t88.9367\t2.18159\t80 \t93 \n",
      "23 \t162   \t89.7967\t2.15762\t79 \t93 \n",
      "24 \t178   \t90.57  \t2.15834\t81 \t95 \n",
      "25 \t195   \t91.2133\t2.19419\t82 \t95 \n",
      "26 \t180   \t92.08  \t1.99172\t85 \t96 \n",
      "27 \t185   \t92.5667\t2.21635\t82 \t96 \n",
      "28 \t166   \t93.16  \t2.2762 \t84 \t97 \n",
      "29 \t184   \t93.95  \t1.80762\t87 \t97 \n",
      "30 \t185   \t94.4033\t2.22725\t86 \t98 \n",
      "31 \t176   \t94.9533\t2.26226\t85 \t98 \n",
      "32 \t176   \t95.2067\t2.52665\t84 \t98 \n",
      "33 \t177   \t95.93  \t2.13036\t87 \t98 \n",
      "34 \t203   \t96.1167\t2.28394\t86 \t99 \n",
      "35 \t181   \t96.6367\t2.23562\t87 \t99 \n",
      "36 \t169   \t97.0867\t2.02957\t86 \t99 \n",
      "37 \t193   \t96.9   \t2.55147\t87 \t99 \n",
      "38 \t176   \t97.46  \t2.2953 \t87 \t100\n",
      "39 \t178   \t97.8467\t2.01903\t88 \t100\n",
      "40 \t173   \t97.7033\t2.45669\t89 \t100\n"
     ]
    }
   ],
   "source": [
    "import random\n",
    "import numpy as np\n",
    "from deap import base, creator, tools, algorithms\n",
    "\n",
    "# Create the FitnessMax and Individual classes using the creator\n",
    "creator.create(\"FitnessMax\", base.Fitness, weights=(1.0,))\n",
    "creator.create(\"Individual\", list, fitness=creator.FitnessMax)\n",
    "\n",
    "toolbox = base.Toolbox()\n",
    "toolbox.register(\"attr_bool\", random.randint, 0, 1)\n",
    "toolbox.register(\"individual\", tools.initRepeat, creator.Individual, toolbox.attr_bool, 100)\n",
    "toolbox.register(\"population\", tools.initRepeat, list, toolbox.individual)\n",
    "\n",
    "# Define the evaluation function\n",
    "def evalOneMax(individual):\n",
    "    return sum(individual),\n",
    "\n",
    "toolbox.register(\"evaluate\", evalOneMax)\n",
    "toolbox.register(\"mate\", tools.cxTwoPoint)\n",
    "toolbox.register(\"mutate\", tools.mutFlipBit, indpb=0.05)\n",
    "toolbox.register(\"select\", tools.selTournament, tournsize=3)\n",
    "\n",
    "def main():\n",
    "    pop = toolbox.population(n=300)\n",
    "    hof = tools.HallOfFame(1)\n",
    "    stats = tools.Statistics(lambda ind: ind.fitness.values)\n",
    "    stats.register(\"avg\", np.mean)\n",
    "    stats.register(\"std\", np.std)\n",
    "    stats.register(\"min\", np.min)\n",
    "    stats.register(\"max\", np.max)\n",
    "\n",
    "    pop, log = algorithms.eaSimple(pop, toolbox, cxpb=0.5, mutpb=0.2, ngen=40,\n",
    "                                   stats=stats, halloffame=hof, verbose=True)\n",
    "\n",
    "if __name__ == \"__main__\":\n",
    "    main()\n"
   ]
  },
  {
   "cell_type": "code",
   "execution_count": null,
   "id": "7ac663c7",
   "metadata": {},
   "outputs": [],
   "source": []
  }
 ],
 "metadata": {
  "kernelspec": {
   "display_name": "Python 3 (ipykernel)",
   "language": "python",
   "name": "python3"
  },
  "language_info": {
   "codemirror_mode": {
    "name": "ipython",
    "version": 3
   },
   "file_extension": ".py",
   "mimetype": "text/x-python",
   "name": "python",
   "nbconvert_exporter": "python",
   "pygments_lexer": "ipython3",
   "version": "3.9.19"
  }
 },
 "nbformat": 4,
 "nbformat_minor": 5
}
