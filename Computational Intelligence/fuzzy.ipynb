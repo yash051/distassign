{
 "cells": [
  {
   "cell_type": "code",
   "execution_count": 14,
   "id": "d4b3a12e",
   "metadata": {},
   "outputs": [
    {
     "name": "stdout",
     "output_type": "stream",
     "text": [
      "Fuzzy Set Union is : {'a': 0.9, 'b': 0.9, 'c': 0.6, 'd': 0.6}\n"
     ]
    }
   ],
   "source": [
    "#UNION\n",
    "A = dict()\n",
    "B = dict()\n",
    "Y = dict()\n",
    "\n",
    "A = {\"a\": 0.2, \"b\": 0.3, \"c\": 0.6, \"d\": 0.6}\n",
    "B = {\"a\": 0.9, \"b\": 0.9, \"c\": 0.4, \"d\": 0.5}\n",
    "\n",
    "for A_key, B_key in zip(A, B):\n",
    "    A_value = A[A_key]\n",
    "    B_value = B[B_key]\n",
    "\n",
    "    if A_value > B_value:\n",
    "        Y[A_key] = A_value\n",
    "    else:\n",
    "        Y[B_key] = B_value\n",
    "print('Fuzzy Set Union is :', Y)\n"
   ]
  },
  {
   "cell_type": "code",
   "execution_count": 15,
   "id": "1f888bec",
   "metadata": {},
   "outputs": [
    {
     "name": "stdout",
     "output_type": "stream",
     "text": [
      "Fuzzy Set Intersection is : {'a': 0.2, 'b': 0.3, 'c': 0.4, 'd': 0.5}\n"
     ]
    }
   ],
   "source": [
    "#INTERSECTION\n",
    "for A_key, B_key in zip(A, B):\n",
    "    A_value = A[A_key]\n",
    "    B_value = B[B_key]\n",
    " \n",
    "    if A_value < B_value:\n",
    "        Y[A_key] = A_value\n",
    "    else:\n",
    "        Y[B_key] = B_value\n",
    "print('Fuzzy Set Intersection is :', Y)"
   ]
  },
  {
   "cell_type": "code",
   "execution_count": 16,
   "id": "9d206de5",
   "metadata": {},
   "outputs": [
    {
     "name": "stdout",
     "output_type": "stream",
     "text": [
      "Fuzzy Set Complement is : {'a': 0.8, 'b': 0.7, 'c': 0.4, 'd': 0.4}\n"
     ]
    }
   ],
   "source": [
    "#COMPLEMENT\n",
    "for A_key in A:\n",
    "    Y[A_key]= 1-A[A_key]\n",
    "         \n",
    "print('Fuzzy Set Complement is :', Y)"
   ]
  },
  {
   "cell_type": "code",
   "execution_count": 7,
   "id": "4a222787",
   "metadata": {},
   "outputs": [
    {
     "name": "stdout",
     "output_type": "stream",
     "text": [
      "Fuzzy Set Difference is : {'a': 0.09999999999999998, 'b': 0.09999999999999998, 'c': 0.6, 'd': 0.5}\n"
     ]
    }
   ],
   "source": [
    "#DIFFERENCE\n",
    "for A_key, B_key in zip(A, B):\n",
    "    A_value = A[A_key]\n",
    "    B_value = B[B_key]\n",
    "    B_value = 1 - B_value\n",
    " \n",
    "    if A_value < B_value:\n",
    "        Y[A_key] = A_value\n",
    "    else:\n",
    "        Y[B_key] = B_value\n",
    "         \n",
    "print('Fuzzy Set Difference is :', Y)"
   ]
  },
  {
   "cell_type": "code",
   "execution_count": 11,
   "id": "91ba53c6",
   "metadata": {},
   "outputs": [
    {
     "name": "stdout",
     "output_type": "stream",
     "text": [
      "Cartesian product: [[0.2 0.2 0.2 0.2]\n",
      " [0.3 0.3 0.3 0.3]\n",
      " [0.6 0.6 0.4 0.5]\n",
      " [0.6 0.6 0.4 0.5]]\n"
     ]
    }
   ],
   "source": [
    "#CARTESIAN PRODUCT\n",
    "import numpy as np\n",
    "import skfuzzy as fuzz\n",
    "\n",
    "cartesian_product = fuzz.cartprod(np.array(list(A.values())), np.array(list(B.values())))\n",
    "print(\"Cartesian product:\", cartesian_product)"
   ]
  },
  {
   "cell_type": "code",
   "execution_count": 1,
   "id": "c0cc8027",
   "metadata": {},
   "outputs": [
    {
     "name": "stdout",
     "output_type": "stream",
     "text": [
      "Collecting scikit-fuzzy\n",
      "  Downloading scikit-fuzzy-0.4.2.tar.gz (993 kB)\n",
      "     ---------------------------------------- 0.0/994.0 kB ? eta -:--:--\n",
      "     --- ----------------------------------- 92.2/994.0 kB 5.1 MB/s eta 0:00:01\n",
      "     ----- -------------------------------- 153.6/994.0 kB 2.3 MB/s eta 0:00:01\n",
      "     --------- ---------------------------- 256.0/994.0 kB 2.0 MB/s eta 0:00:01\n",
      "     ---------- --------------------------- 276.5/994.0 kB 1.9 MB/s eta 0:00:01\n",
      "     ---------------- --------------------- 430.1/994.0 kB 1.9 MB/s eta 0:00:01\n",
      "     ----------------- -------------------- 450.6/994.0 kB 1.9 MB/s eta 0:00:01\n",
      "     ----------------- -------------------- 460.8/994.0 kB 1.5 MB/s eta 0:00:01\n",
      "     ----------------- -------------------- 460.8/994.0 kB 1.5 MB/s eta 0:00:01\n",
      "     -------------------------- ----------- 696.3/994.0 kB 1.7 MB/s eta 0:00:01\n",
      "     ----------------------------- -------- 778.2/994.0 kB 1.7 MB/s eta 0:00:01\n",
      "     ---------------------------------- --- 890.9/994.0 kB 1.7 MB/s eta 0:00:01\n",
      "     ------------------------------------ - 952.3/994.0 kB 1.7 MB/s eta 0:00:01\n",
      "     -------------------------------------  993.3/994.0 kB 1.7 MB/s eta 0:00:01\n",
      "     -------------------------------------- 994.0/994.0 kB 1.5 MB/s eta 0:00:00\n",
      "  Preparing metadata (setup.py): started\n",
      "  Preparing metadata (setup.py): finished with status 'done'\n",
      "Requirement already satisfied: numpy>=1.6.0 in d:\\ananconda\\envs\\myenv\\lib\\site-packages (from scikit-fuzzy) (1.23.5)\n",
      "Requirement already satisfied: scipy>=0.9.0 in d:\\ananconda\\envs\\myenv\\lib\\site-packages (from scikit-fuzzy) (1.10.1)\n",
      "Requirement already satisfied: networkx>=1.9.0 in d:\\ananconda\\envs\\myenv\\lib\\site-packages (from scikit-fuzzy) (3.1)\n",
      "Building wheels for collected packages: scikit-fuzzy\n",
      "  Building wheel for scikit-fuzzy (setup.py): started\n",
      "  Building wheel for scikit-fuzzy (setup.py): finished with status 'done'\n",
      "  Created wheel for scikit-fuzzy: filename=scikit_fuzzy-0.4.2-py3-none-any.whl size=894084 sha256=14c8d0fdabb54b18631c8b20e3ac92f3c98a1d372cb1cb42ccbc4efcf42fafbd\n",
      "  Stored in directory: c:\\users\\swanand\\appdata\\local\\pip\\cache\\wheels\\32\\2c\\a1\\a90a7d7dd8448ec029f298a61f3490275e99b17aa348be675c\n",
      "Successfully built scikit-fuzzy\n",
      "Installing collected packages: scikit-fuzzy\n",
      "Successfully installed scikit-fuzzy-0.4.2\n"
     ]
    }
   ],
   "source": [
    "!pip install scikit-fuzzy"
   ]
  },
  {
   "cell_type": "code",
   "execution_count": 13,
   "id": "9435294f",
   "metadata": {},
   "outputs": [
    {
     "name": "stdout",
     "output_type": "stream",
     "text": [
      "Max-Min Composition Result:\n",
      "[[0.4 0.4 0.1]\n",
      " [0.3 0.5 0.1]\n",
      " [0.4 0.4 0.1]\n",
      " [0.3 0.5 0.1]]\n"
     ]
    }
   ],
   "source": [
    "#MAX MIN COMPOSITION\n",
    "\n",
    "def max_min_composition(R1, R2):\n",
    "    result = np.zeros((len(R1), len(R2[0])))\n",
    "    for i in range(len(R1)):\n",
    "        for j in range(len(R2[0])):\n",
    "            max_min = 0\n",
    "            for k in range(len(R1[0])):\n",
    "                max_min = max(min(R1[i][k], R2[k][j]), max_min)\n",
    "            result[i][j] = max_min\n",
    "    \n",
    "    result = np.clip(result, 0, 1)\n",
    "    return result\n",
    "\n",
    "\n",
    "R1 = np.array([[0.3, 0.4, 0.7], [0.3, 0.5, 0], [0.4, 0.4, 1], [0.4, 0.5, 0.1]])\n",
    "R2 = np.array([[0.3, 0.3, 0], [0.3, 0.5, 0.1], [0.4, 0.4, 0], [0.4, 0.5, 0.6]])\n",
    "result = max_min_composition(R1, R2)\n",
    "print(\"Max-Min Composition Result:\")\n",
    "print(result)"
   ]
  },
  {
   "cell_type": "code",
   "execution_count": 2,
   "id": "3c9b01be",
   "metadata": {},
   "outputs": [
    {
     "name": "stdout",
     "output_type": "stream",
     "text": [
      "Enter value for A[a]: 0.3\n",
      "Enter value for A[b]: 0.4\n",
      "Enter value for A[c]: 0.6\n",
      "Enter value for A[d]: 0.5\n",
      "Enter value for B[a]: 0.8\n",
      "Enter value for B[b]: 0.1\n",
      "Enter value for B[c]: 0.9\n",
      "Enter value for B[d]: 0.3\n",
      "\n",
      "    Select an option:\n",
      "    1) Union\n",
      "    2) Intersection\n",
      "    3) Complement\n",
      "    4) Difference\n",
      "    5) Cartesian Product\n",
      "    6) Max-Min Composition\n",
      "    Enter your choice (1-6): 4\n",
      "Fuzzy Set Difference is: {'a': 0.3, 'b': 0.9, 'c': 0.6, 'd': 0.7}\n"
     ]
    }
   ],
   "source": [
    "import numpy as np\n",
    "import skfuzzy as fuzz\n",
    "\n",
    "def max_min_composition(R1, R2):\n",
    "    result = np.zeros((len(R1), len(R2[0])))\n",
    "    for i in range(len(R1)):\n",
    "        for j in range(len(R2[0])):\n",
    "            max_min = 0\n",
    "            for k in range(len(R1[0])):\n",
    "                max_min = max(min(R1[i][k], R2[k][j]), max_min)\n",
    "            result[i][j] = max_min\n",
    "    result = np.clip(result, 0, 1)\n",
    "    return result\n",
    "\n",
    "def take_input():\n",
    "    while True:\n",
    "        try:\n",
    "            A = {k: float(input(f\"Enter value for A[{k}]: \")) for k in ['a', 'b', 'c', 'd']}\n",
    "            B = {k: float(input(f\"Enter value for B[{k}]: \")) for k in ['a', 'b', 'c', 'd']}\n",
    "            if all(0 <= val <= 1 for val in A.values()) and all(0 <= val <= 1 for val in B.values()):\n",
    "                return A, B\n",
    "            else:\n",
    "                print(\"Values should be between 0 and 1. Please try again.\")\n",
    "        except ValueError:\n",
    "            print(\"Invalid input. Please enter a number between 0 and 1.\")\n",
    "\n",
    "def main():\n",
    "    A, B = take_input()\n",
    "\n",
    "    option = int(input(\"\"\"\n",
    "    Select an option:\n",
    "    1) Union\n",
    "    2) Intersection\n",
    "    3) Complement\n",
    "    4) Difference\n",
    "    5) Cartesian Product\n",
    "    6) Max-Min Composition\n",
    "    Enter your choice (1-6): \"\"\"))\n",
    "\n",
    "    Y = {}\n",
    "    \n",
    "    if option == 1:\n",
    "        for A_key, B_key in zip(A, B):\n",
    "            Y[A_key] = max(A[A_key], B[B_key])\n",
    "        print('Fuzzy Set Union is:', Y)\n",
    "\n",
    "    elif option == 2:\n",
    "        for A_key, B_key in zip(A, B):\n",
    "            Y[A_key] = min(A[A_key], B[B_key])\n",
    "        print('Fuzzy Set Intersection is:', Y)\n",
    "\n",
    "    elif option == 3:\n",
    "        for A_key in A:\n",
    "            Y[A_key] = 1 - A[A_key]\n",
    "        print('Fuzzy Set Complement is:', Y)\n",
    "\n",
    "    elif option == 4:\n",
    "        for A_key, B_key in zip(A, B):\n",
    "            Y[A_key] = max(A[A_key], 1 - B[B_key])\n",
    "        print('Fuzzy Set Difference is:', Y)\n",
    "\n",
    "    elif option == 5:\n",
    "        cartesian_product = fuzz.cartprod(np.array(list(A.values())), np.array(list(B.values())))\n",
    "        print(\"Cartesian product:\", cartesian_product)\n",
    "\n",
    "    elif option == 6:\n",
    "        R1 = np.array([list(A.values())])\n",
    "        R2 = np.array([list(B.values())])\n",
    "        result = max_min_composition(R1, R2.T)\n",
    "        print(\"Max-Min Composition Result:\")\n",
    "        print(result)\n",
    "\n",
    "    else:\n",
    "        print(\"Invalid option selected.\")\n",
    "\n",
    "if __name__ == \"__main__\":\n",
    "    main()\n"
   ]
  },
  {
   "cell_type": "code",
   "execution_count": null,
   "id": "f72d8f72",
   "metadata": {},
   "outputs": [],
   "source": []
  }
 ],
 "metadata": {
  "kernelspec": {
   "display_name": "Python 3 (ipykernel)",
   "language": "python",
   "name": "python3"
  },
  "language_info": {
   "codemirror_mode": {
    "name": "ipython",
    "version": 3
   },
   "file_extension": ".py",
   "mimetype": "text/x-python",
   "name": "python",
   "nbconvert_exporter": "python",
   "pygments_lexer": "ipython3",
   "version": "3.9.16"
  }
 },
 "nbformat": 4,
 "nbformat_minor": 5
}
